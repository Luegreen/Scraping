{
 "cells": [
  {
   "cell_type": "code",
   "execution_count": 2,
   "metadata": {},
   "outputs": [],
   "source": [
    "from splinter import Browser\n",
    "from bs4 import BeautifulSoup as soup\n",
    "from webdriver_manager.chrome import ChromeDriverManager"
   ]
  },
  {
   "cell_type": "code",
   "execution_count": 3,
   "metadata": {},
   "outputs": [
    {
     "name": "stderr",
     "output_type": "stream",
     "text": [
      "\n",
      "\n",
      "====== WebDriver manager ======\n",
      "Current google-chrome version is 91.0.4472\n",
      "Get LATEST driver version for 91.0.4472\n",
      "Driver [/Users/lucygreen/.wdm/drivers/chromedriver/mac64/91.0.4472.101/chromedriver] found in cache\n"
     ]
    }
   ],
   "source": [
    "# Set up Splinter\n",
    "executable_path = {'executable_path': ChromeDriverManager().install()}\n",
    "browser = Browser('chrome', **executable_path, headless=False)"
   ]
  },
  {
   "cell_type": "code",
   "execution_count": 4,
   "metadata": {},
   "outputs": [],
   "source": [
    "#visit the Quotes to Scrape site\n",
    "url = 'http://books.toscrape.com'\n",
    "browser.visit(url)"
   ]
  },
  {
   "cell_type": "code",
   "execution_count": 5,
   "metadata": {},
   "outputs": [],
   "source": [
    "#Parse the HTML\n",
    "html = browser.html\n",
    "html_soup = soup(html, 'html.parser')"
   ]
  },
  {
   "cell_type": "code",
   "execution_count": 6,
   "metadata": {},
   "outputs": [
    {
     "data": {
      "text/plain": [
       "'Top Ten tags'"
      ]
     },
     "execution_count": 6,
     "metadata": {},
     "output_type": "execute_result"
    }
   ],
   "source": [
    "#Scrape the Title\n",
    "title = html_soup.find('h2').text\n",
    "title"
   ]
  },
  {
   "cell_type": "code",
   "execution_count": 7,
   "metadata": {},
   "outputs": [
    {
     "name": "stdout",
     "output_type": "stream",
     "text": [
      "love\n",
      "inspirational\n",
      "life\n",
      "humor\n",
      "books\n",
      "reading\n",
      "friendship\n",
      "friends\n",
      "truth\n",
      "simile\n"
     ]
    }
   ],
   "source": [
    "#Scrape the top ten tags\n",
    "tag_box = html_soup.find('div', class_='tags-box')\n",
    "#tag_box\n",
    "tags = tag_box.find_all('a', class_='tag')\n",
    "\n",
    "for tag in tags:\n",
    "    word = tag.text\n",
    "    print(word)\n",
    "\n"
   ]
  },
  {
   "cell_type": "code",
   "execution_count": 8,
   "metadata": {},
   "outputs": [],
   "source": [
    "url = 'http://quotes.toscrape.com/'\n",
    "browser.visit(url)"
   ]
  },
  {
   "cell_type": "code",
   "execution_count": 17,
   "metadata": {},
   "outputs": [
    {
     "name": "stdout",
     "output_type": "stream",
     "text": [
      "page: 1 ----------\n",
      "“The truth.\" Dumbledore sighed. \"It is a beautiful and terrible thing, and should therefore be treated with great caution.”\n",
      "page: 1 ----------\n",
      "“I'm the one that's got to die when it's time for me to die, so let me live my life the way I want to.”\n",
      "page: 1 ----------\n",
      "“To die will be an awfully big adventure.”\n",
      "page: 1 ----------\n",
      "“It takes courage to grow up and become who you really are.”\n",
      "page: 1 ----------\n",
      "“But better to get hurt by the truth than comforted with a lie.”\n",
      "page: 1 ----------\n",
      "“You never really understand a person until you consider things from his point of view... Until you climb inside of his skin and walk around in it.”\n",
      "page: 1 ----------\n",
      "“You have to write the book that wants to be written. And if the book will be too difficult for grown-ups, then you write it for children.”\n",
      "page: 1 ----------\n",
      "“Never tell the truth to people who are not worthy of it.”\n",
      "page: 1 ----------\n",
      "“A person's a person, no matter how small.”\n",
      "page: 1 ----------\n",
      "“... a mind needs books as a sword needs a whetstone, if it is to keep its edge.”\n",
      "page: 2 ----------\n",
      "“The truth.\" Dumbledore sighed. \"It is a beautiful and terrible thing, and should therefore be treated with great caution.”\n",
      "page: 2 ----------\n",
      "“I'm the one that's got to die when it's time for me to die, so let me live my life the way I want to.”\n",
      "page: 2 ----------\n",
      "“To die will be an awfully big adventure.”\n",
      "page: 2 ----------\n",
      "“It takes courage to grow up and become who you really are.”\n",
      "page: 2 ----------\n",
      "“But better to get hurt by the truth than comforted with a lie.”\n",
      "page: 2 ----------\n",
      "“You never really understand a person until you consider things from his point of view... Until you climb inside of his skin and walk around in it.”\n",
      "page: 2 ----------\n",
      "“You have to write the book that wants to be written. And if the book will be too difficult for grown-ups, then you write it for children.”\n",
      "page: 2 ----------\n",
      "“Never tell the truth to people who are not worthy of it.”\n",
      "page: 2 ----------\n",
      "“A person's a person, no matter how small.”\n",
      "page: 2 ----------\n",
      "“... a mind needs books as a sword needs a whetstone, if it is to keep its edge.”\n",
      "page: 3 ----------\n",
      "“Anyone who has never made a mistake has never tried anything new.”\n",
      "page: 3 ----------\n",
      "“A lady's imagination is very rapid; it jumps from admiration to love, from love to matrimony in a moment.”\n",
      "page: 3 ----------\n",
      "“Remember, if the time should come when you have to make a choice between what is right and what is easy, remember what happened to a boy who was good, and kind, and brave, because he strayed across the path of Lord Voldemort. Remember Cedric Diggory.”\n",
      "page: 3 ----------\n",
      "“I declare after all there is no enjoyment like reading! How much sooner one tires of any thing than of a book! -- When I have a house of my own, I shall be miserable if I have not an excellent library.”\n",
      "page: 3 ----------\n",
      "“There are few people whom I really love, and still fewer of whom I think well. The more I see of the world, the more am I dissatisfied with it; and every day confirms my belief of the inconsistency of all human characters, and of the little dependence that can be placed on the appearance of merit or sense.”\n",
      "page: 3 ----------\n",
      "“Some day you will be old enough to start reading fairy tales again.”\n",
      "page: 3 ----------\n",
      "“We are not necessarily doubting that God will do the best for us; we are wondering how painful the best will turn out to be.”\n",
      "page: 3 ----------\n",
      "“The fear of death follows from the fear of life. A man who lives fully is prepared to die at any time.”\n",
      "page: 3 ----------\n",
      "“A lie can travel half way around the world while the truth is putting on its shoes.”\n",
      "page: 3 ----------\n",
      "“I believe in Christianity as I believe that the sun has risen: not only because I see it, but because by it I see everything else.”\n",
      "page: 4 ----------\n",
      "“If I had a flower for every time I thought of you...I could walk through my garden forever.”\n",
      "page: 4 ----------\n",
      "“Some people never go crazy. What truly horrible lives they must lead.”\n",
      "page: 4 ----------\n",
      "“The trouble with having an open mind, of course, is that people will insist on coming along and trying to put things in it.”\n",
      "page: 4 ----------\n",
      "“Think left and think right and think low and think high. Oh, the thinks you can think up if only you try!”\n",
      "page: 4 ----------\n",
      "“What really knocks me out is a book that, when you're all done reading it, you wish the author that wrote it was a terrific friend of yours and you could call him up on the phone whenever you felt like it. That doesn't happen much, though.”\n",
      "page: 4 ----------\n",
      "“The reason I talk to myself is because I’m the only one whose answers I accept.”\n",
      "page: 4 ----------\n",
      "“You may say I'm a dreamer, but I'm not the only one. I hope someday you'll join us. And the world will live as one.”\n",
      "page: 4 ----------\n",
      "“I am free of all prejudice. I hate everyone equally. ”\n",
      "page: 4 ----------\n",
      "“The question isn't who is going to let me; it's who is going to stop me.”\n",
      "page: 4 ----------\n",
      "“′Classic′ - a book which people praise and don't read.”\n",
      "page: 5 ----------\n",
      "“That's the problem with drinking, I thought, as I poured myself a drink. If something bad happens you drink in an attempt to forget; if something good happens you drink in order to celebrate; and if nothing happens you drink to make something happen.”\n",
      "page: 5 ----------\n",
      "“You don’t forget the face of the person who was your last hope.”\n",
      "page: 5 ----------\n",
      "“Remember, we're madly in love, so it's all right to kiss me anytime you feel like it.”\n",
      "page: 5 ----------\n",
      "“To love at all is to be vulnerable. Love anything and your heart will be wrung and possibly broken. If you want to make sure of keeping it intact you must give it to no one, not even an animal. Wrap it carefully round with hobbies and little luxuries; avoid all entanglements. Lock it up safe in the casket or coffin of your selfishness. But in that casket, safe, dark, motionless, airless, it will change. It will not be broken; it will become unbreakable, impenetrable, irredeemable. To love is to be vulnerable.”\n",
      "page: 5 ----------\n",
      "“Not all those who wander are lost.”\n",
      "page: 5 ----------\n",
      "“Do not pity the dead, Harry. Pity the living, and, above all those who live without love.”\n",
      "page: 5 ----------\n",
      "“There is nothing to writing. All you do is sit down at a typewriter and bleed.”\n",
      "page: 5 ----------\n",
      "“Finish each day and be done with it. You have done what you could. Some blunders and absurdities no doubt crept in; forget them as soon as you can. Tomorrow is a new day. You shall begin it serenely and with too high a spirit to be encumbered with your old nonsense.”\n",
      "page: 5 ----------\n",
      "“I have never let my schooling interfere with my education.”\n",
      "page: 5 ----------\n",
      "“I have heard there are troubles of more than one kind. Some come from ahead and some come from behind. But I've bought a big bat. I'm all ready you see. Now my troubles are going to have troubles with me!”\n"
     ]
    }
   ],
   "source": [
    "for x in range(1, 6):\n",
    "   html = browser.html\n",
    "   quote_soup = soup(html, 'html.parser')\n",
    "   quotes = quote_soup.find_all('span', class_='text')\n",
    "   for quote in quotes:\n",
    "      print('page:', x, '----------')\n",
    "      print(quote.text)\n",
    "   browser.links.find_by_partial_text('Previous').click()\n"
   ]
  },
  {
   "cell_type": "code",
   "execution_count": null,
   "metadata": {},
   "outputs": [],
   "source": []
  }
 ],
 "metadata": {
  "kernelspec": {
   "display_name": "PythonData",
   "language": "python",
   "name": "pythondata"
  },
  "language_info": {
   "codemirror_mode": {
    "name": "ipython",
    "version": 3
   },
   "file_extension": ".py",
   "mimetype": "text/x-python",
   "name": "python",
   "nbconvert_exporter": "python",
   "pygments_lexer": "ipython3",
   "version": "3.7.9"
  }
 },
 "nbformat": 4,
 "nbformat_minor": 4
}
